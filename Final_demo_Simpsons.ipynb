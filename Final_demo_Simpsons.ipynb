{
 "cells": [
  {
   "cell_type": "markdown",
   "id": "0ff96f6b",
   "metadata": {},
   "source": [
    "### Loading Libraries"
   ]
  },
  {
   "cell_type": "code",
   "execution_count": 2,
   "id": "09a6959d",
   "metadata": {},
   "outputs": [],
   "source": [
    "import os\n",
    "import cv2\n",
    "import numpy as np\n",
    "from sklearn.model_selection import train_test_split\n",
    "from sklearn.neighbors import KNeighborsClassifier\n",
    "from sklearn.ensemble import RandomForestClassifier\n",
    "from sklearn.metrics import accuracy_score"
   ]
  },
  {
   "cell_type": "markdown",
   "id": "deda6409",
   "metadata": {},
   "source": [
    "### Function to the dataset\n",
    "##### ( as our dataset consists of many jpg files we need to load each image using cv2 and append the labels to the images for all further use) "
   ]
  },
  {
   "cell_type": "code",
   "execution_count": 3,
   "id": "acd6590a",
   "metadata": {},
   "outputs": [],
   "source": [
    "def load_simpsons_dataset(dataset_path):\n",
    "    images = []\n",
    "    labels = []\n",
    "    label_map = {}\n",
    "    num_labels = 0\n",
    "\n",
    "    for root, dirs, files in os.walk(dataset_path):\n",
    "        for file in files:\n",
    "            if file.endswith(\".jpg\"):\n",
    "                image_path = os.path.join(root, file)\n",
    "                image = cv2.imread(image_path)\n",
    "                image = cv2.cvtColor(image, cv2.COLOR_BGR2RGB) \n",
    "                image = cv2.resize(image, (100, 100))  \n",
    "\n",
    "                label = os.path.basename(root)\n",
    "                if label not in label_map:\n",
    "                    label_map[label] = num_labels\n",
    "                    num_labels += 1\n",
    "                label_id = label_map[label]\n",
    "\n",
    "                images.append(image)\n",
    "                labels.append(label_id)\n",
    "\n",
    "    images = np.array(images)\n",
    "    labels = np.array(labels)\n",
    "\n",
    "    return images, labels, label_map"
   ]
  },
  {
   "cell_type": "markdown",
   "id": "3bbdcf85",
   "metadata": {},
   "source": [
    "### Loading the dataset"
   ]
  },
  {
   "cell_type": "code",
   "execution_count": 4,
   "id": "2efe5805",
   "metadata": {},
   "outputs": [],
   "source": [
    "dataset_path = \"D:/Anvay/MIT STUDIES (SUBJECT WISE)/ML/ML PROJECT/simpsons_dataset\"\n",
    "X, y, label_map = load_simpsons_dataset(dataset_path)"
   ]
  },
  {
   "cell_type": "code",
   "execution_count": 8,
   "id": "6bd5ed80",
   "metadata": {},
   "outputs": [
    {
     "name": "stdout",
     "output_type": "stream",
     "text": [
      "[[[[ 90 107 161]\n",
      "   [ 96 113 167]\n",
      "   [ 96 113 167]\n",
      "   ...\n",
      "   [140 147 175]\n",
      "   [140 147 175]\n",
      "   [140 147 175]]\n",
      "\n",
      "  [[ 90 107 161]\n",
      "   [ 96 113 167]\n",
      "   [ 96 113 167]\n",
      "   ...\n",
      "   [140 147 175]\n",
      "   [140 147 175]\n",
      "   [140 147 175]]\n",
      "\n",
      "  [[ 90 107 161]\n",
      "   [ 96 113 167]\n",
      "   [ 96 113 167]\n",
      "   ...\n",
      "   [140 147 175]\n",
      "   [140 147 175]\n",
      "   [140 147 175]]\n",
      "\n",
      "  ...\n",
      "\n",
      "  [[179 191 188]\n",
      "   [184 192 214]\n",
      "   [191 193 241]\n",
      "   ...\n",
      "   [212 178  19]\n",
      "   [116  93  14]\n",
      "   [147 134 147]]\n",
      "\n",
      "  [[117 131 107]\n",
      "   [172 182 180]\n",
      "   [183 190 216]\n",
      "   ...\n",
      "   [212 178  20]\n",
      "   [158 135  56]\n",
      "   [144 134 142]]\n",
      "\n",
      "  [[ 77  95  49]\n",
      "   [139 151 129]\n",
      "   [180 193 201]\n",
      "   ...\n",
      "   [211 177  19]\n",
      "   [156 132  54]\n",
      "   [ 96  84  96]]]\n",
      "\n",
      "\n",
      " [[[ 91  65 112]\n",
      "   [ 91  65 112]\n",
      "   [ 91  65 112]\n",
      "   ...\n",
      "   [145  82  99]\n",
      "   [139  76  93]\n",
      "   [133  70  87]]\n",
      "\n",
      "  [[102  76 123]\n",
      "   [102  76 123]\n",
      "   [102  76 123]\n",
      "   ...\n",
      "   [146  83 100]\n",
      "   [136  75  91]\n",
      "   [127  66  82]]\n",
      "\n",
      "  [[ 99  73 120]\n",
      "   [ 99  73 120]\n",
      "   [ 99  73 120]\n",
      "   ...\n",
      "   [126  62  79]\n",
      "   [129  66  83]\n",
      "   [134  70  87]]\n",
      "\n",
      "  ...\n",
      "\n",
      "  [[ 73  80 152]\n",
      "   [ 73  80 152]\n",
      "   [ 76  83 155]\n",
      "   ...\n",
      "   [ 61  99 107]\n",
      "   [ 58  96 104]\n",
      "   [ 58  96 104]]\n",
      "\n",
      "  [[ 73  80 152]\n",
      "   [ 73  80 152]\n",
      "   [ 76  83 155]\n",
      "   ...\n",
      "   [117 133 132]\n",
      "   [110 124 124]\n",
      "   [109 125 124]]\n",
      "\n",
      "  [[ 73  80 152]\n",
      "   [ 73  80 152]\n",
      "   [ 76  83 155]\n",
      "   ...\n",
      "   [161 161 151]\n",
      "   [163 161 155]\n",
      "   [162 162 153]]]\n",
      "\n",
      "\n",
      " [[[ 68  14   4]\n",
      "   [ 68  14   4]\n",
      "   [ 68  14   4]\n",
      "   ...\n",
      "   [ 85  40   7]\n",
      "   [ 85  40   7]\n",
      "   [ 85  40   7]]\n",
      "\n",
      "  [[ 68  14   4]\n",
      "   [ 68  14   4]\n",
      "   [ 68  14   4]\n",
      "   ...\n",
      "   [ 85  40   7]\n",
      "   [ 85  40   7]\n",
      "   [ 85  40   7]]\n",
      "\n",
      "  [[ 83  29  19]\n",
      "   [ 83  29  19]\n",
      "   [ 83  29  19]\n",
      "   ...\n",
      "   [ 85  40   7]\n",
      "   [ 85  40   7]\n",
      "   [ 85  40   7]]\n",
      "\n",
      "  ...\n",
      "\n",
      "  [[ 18  40  82]\n",
      "   [ 18  40  82]\n",
      "   [ 18  40  82]\n",
      "   ...\n",
      "   [  8  33  71]\n",
      "   [  8  37  54]\n",
      "   [ 12  43  47]]\n",
      "\n",
      "  [[ 19  40  83]\n",
      "   [ 19  40  83]\n",
      "   [ 19  40  83]\n",
      "   ...\n",
      "   [ 13  35  92]\n",
      "   [ 13  36  87]\n",
      "   [ 13  37  85]]\n",
      "\n",
      "  [[ 19  40  83]\n",
      "   [ 19  40  83]\n",
      "   [ 19  40  83]\n",
      "   ...\n",
      "   [ 13  38  77]\n",
      "   [ 13  37  80]\n",
      "   [ 13  37  84]]]\n",
      "\n",
      "\n",
      " ...\n",
      "\n",
      "\n",
      " [[[165 140 100]\n",
      "   [165 140 100]\n",
      "   [165 140 100]\n",
      "   ...\n",
      "   [165 139 104]\n",
      "   [165 139 104]\n",
      "   [165 139 104]]\n",
      "\n",
      "  [[165 140 100]\n",
      "   [165 140 100]\n",
      "   [165 140 100]\n",
      "   ...\n",
      "   [165 139 104]\n",
      "   [165 139 104]\n",
      "   [165 139 104]]\n",
      "\n",
      "  [[165 140 100]\n",
      "   [165 140 100]\n",
      "   [165 140 100]\n",
      "   ...\n",
      "   [170 144 109]\n",
      "   [170 144 109]\n",
      "   [170 144 109]]\n",
      "\n",
      "  ...\n",
      "\n",
      "  [[159 138  98]\n",
      "   [136 115  75]\n",
      "   [142 122  82]\n",
      "   ...\n",
      "   [170 135 115]\n",
      "   [169 135 115]\n",
      "   [170 135 115]]\n",
      "\n",
      "  [[ 63  99  63]\n",
      "   [ 63  99  63]\n",
      "   [ 63  99  63]\n",
      "   ...\n",
      "   [116  97  71]\n",
      "   [115  97  71]\n",
      "   [116  97  71]]\n",
      "\n",
      "  [[ 34 111  78]\n",
      "   [ 34 111  80]\n",
      "   [ 34 111  79]\n",
      "   ...\n",
      "   [ 57 111  61]\n",
      "   [ 57 111  61]\n",
      "   [ 57 111  61]]]\n",
      "\n",
      "\n",
      " [[[165 139 104]\n",
      "   [165 139 104]\n",
      "   [165 139 104]\n",
      "   ...\n",
      "   [165 140 100]\n",
      "   [165 140 100]\n",
      "   [165 140 100]]\n",
      "\n",
      "  [[165 139 104]\n",
      "   [165 139 104]\n",
      "   [165 139 104]\n",
      "   ...\n",
      "   [165 140 100]\n",
      "   [165 140 100]\n",
      "   [165 140 100]]\n",
      "\n",
      "  [[170 144 109]\n",
      "   [170 144 109]\n",
      "   [170 144 109]\n",
      "   ...\n",
      "   [165 140 100]\n",
      "   [165 140 100]\n",
      "   [165 140 100]]\n",
      "\n",
      "  ...\n",
      "\n",
      "  [[165 140 100]\n",
      "   [165 140 100]\n",
      "   [165 140 100]\n",
      "   ...\n",
      "   [127 101  66]\n",
      "   [127 101  66]\n",
      "   [127 103  67]]\n",
      "\n",
      "  [[165 140 100]\n",
      "   [165 140 100]\n",
      "   [165 140 100]\n",
      "   ...\n",
      "   [167 141 106]\n",
      "   [168 142 107]\n",
      "   [167 143 107]]\n",
      "\n",
      "  [[165 140 100]\n",
      "   [165 139 101]\n",
      "   [165 139 101]\n",
      "   ...\n",
      "   [165 139 104]\n",
      "   [165 139 104]\n",
      "   [165 140 104]]]\n",
      "\n",
      "\n",
      " [[[ 94  96 108]\n",
      "   [110 112 124]\n",
      "   [106 108 120]\n",
      "   ...\n",
      "   [ 77  71  73]\n",
      "   [ 77  71  73]\n",
      "   [ 77  71  73]]\n",
      "\n",
      "  [[ 94  96 108]\n",
      "   [110 112 124]\n",
      "   [106 108 120]\n",
      "   ...\n",
      "   [108 102 104]\n",
      "   [108 102 104]\n",
      "   [108 102 104]]\n",
      "\n",
      "  [[ 94  96 108]\n",
      "   [110 112 124]\n",
      "   [106 108 120]\n",
      "   ...\n",
      "   [112 106 108]\n",
      "   [112 106 108]\n",
      "   [112 106 108]]\n",
      "\n",
      "  ...\n",
      "\n",
      "  [[ 91  91 115]\n",
      "   [ 91  91 115]\n",
      "   [ 91  91 115]\n",
      "   ...\n",
      "   [ 91  93 108]\n",
      "   [ 91  93 108]\n",
      "   [ 91  93 108]]\n",
      "\n",
      "  [[ 78  78 102]\n",
      "   [ 92  92 116]\n",
      "   [105 105 129]\n",
      "   ...\n",
      "   [ 91  93 108]\n",
      "   [ 91  93 108]\n",
      "   [ 91  93 108]]\n",
      "\n",
      "  [[ 78  78 102]\n",
      "   [ 92  92 116]\n",
      "   [105 105 129]\n",
      "   ...\n",
      "   [ 91  93 108]\n",
      "   [ 91  93 108]\n",
      "   [ 91  93 108]]]]\n"
     ]
    }
   ],
   "source": [
    "print(X)"
   ]
  },
  {
   "cell_type": "markdown",
   "id": "9511d51f",
   "metadata": {},
   "source": [
    "### Splitting dataset into test,train"
   ]
  },
  {
   "cell_type": "code",
   "execution_count": 9,
   "id": "8a7578d4",
   "metadata": {},
   "outputs": [],
   "source": [
    "X_train, X_test, y_train, y_test = train_test_split(X, y, test_size=0.2, random_state=42)"
   ]
  },
  {
   "cell_type": "markdown",
   "id": "30c1b44f",
   "metadata": {},
   "source": [
    "### Fitting knn model to the train set"
   ]
  },
  {
   "cell_type": "code",
   "execution_count": 10,
   "id": "9c21a2f3",
   "metadata": {},
   "outputs": [
    {
     "data": {
      "text/html": [
       "<style>#sk-container-id-1 {color: black;}#sk-container-id-1 pre{padding: 0;}#sk-container-id-1 div.sk-toggleable {background-color: white;}#sk-container-id-1 label.sk-toggleable__label {cursor: pointer;display: block;width: 100%;margin-bottom: 0;padding: 0.3em;box-sizing: border-box;text-align: center;}#sk-container-id-1 label.sk-toggleable__label-arrow:before {content: \"▸\";float: left;margin-right: 0.25em;color: #696969;}#sk-container-id-1 label.sk-toggleable__label-arrow:hover:before {color: black;}#sk-container-id-1 div.sk-estimator:hover label.sk-toggleable__label-arrow:before {color: black;}#sk-container-id-1 div.sk-toggleable__content {max-height: 0;max-width: 0;overflow: hidden;text-align: left;background-color: #f0f8ff;}#sk-container-id-1 div.sk-toggleable__content pre {margin: 0.2em;color: black;border-radius: 0.25em;background-color: #f0f8ff;}#sk-container-id-1 input.sk-toggleable__control:checked~div.sk-toggleable__content {max-height: 200px;max-width: 100%;overflow: auto;}#sk-container-id-1 input.sk-toggleable__control:checked~label.sk-toggleable__label-arrow:before {content: \"▾\";}#sk-container-id-1 div.sk-estimator input.sk-toggleable__control:checked~label.sk-toggleable__label {background-color: #d4ebff;}#sk-container-id-1 div.sk-label input.sk-toggleable__control:checked~label.sk-toggleable__label {background-color: #d4ebff;}#sk-container-id-1 input.sk-hidden--visually {border: 0;clip: rect(1px 1px 1px 1px);clip: rect(1px, 1px, 1px, 1px);height: 1px;margin: -1px;overflow: hidden;padding: 0;position: absolute;width: 1px;}#sk-container-id-1 div.sk-estimator {font-family: monospace;background-color: #f0f8ff;border: 1px dotted black;border-radius: 0.25em;box-sizing: border-box;margin-bottom: 0.5em;}#sk-container-id-1 div.sk-estimator:hover {background-color: #d4ebff;}#sk-container-id-1 div.sk-parallel-item::after {content: \"\";width: 100%;border-bottom: 1px solid gray;flex-grow: 1;}#sk-container-id-1 div.sk-label:hover label.sk-toggleable__label {background-color: #d4ebff;}#sk-container-id-1 div.sk-serial::before {content: \"\";position: absolute;border-left: 1px solid gray;box-sizing: border-box;top: 0;bottom: 0;left: 50%;z-index: 0;}#sk-container-id-1 div.sk-serial {display: flex;flex-direction: column;align-items: center;background-color: white;padding-right: 0.2em;padding-left: 0.2em;position: relative;}#sk-container-id-1 div.sk-item {position: relative;z-index: 1;}#sk-container-id-1 div.sk-parallel {display: flex;align-items: stretch;justify-content: center;background-color: white;position: relative;}#sk-container-id-1 div.sk-item::before, #sk-container-id-1 div.sk-parallel-item::before {content: \"\";position: absolute;border-left: 1px solid gray;box-sizing: border-box;top: 0;bottom: 0;left: 50%;z-index: -1;}#sk-container-id-1 div.sk-parallel-item {display: flex;flex-direction: column;z-index: 1;position: relative;background-color: white;}#sk-container-id-1 div.sk-parallel-item:first-child::after {align-self: flex-end;width: 50%;}#sk-container-id-1 div.sk-parallel-item:last-child::after {align-self: flex-start;width: 50%;}#sk-container-id-1 div.sk-parallel-item:only-child::after {width: 0;}#sk-container-id-1 div.sk-dashed-wrapped {border: 1px dashed gray;margin: 0 0.4em 0.5em 0.4em;box-sizing: border-box;padding-bottom: 0.4em;background-color: white;}#sk-container-id-1 div.sk-label label {font-family: monospace;font-weight: bold;display: inline-block;line-height: 1.2em;}#sk-container-id-1 div.sk-label-container {text-align: center;}#sk-container-id-1 div.sk-container {/* jupyter's `normalize.less` sets `[hidden] { display: none; }` but bootstrap.min.css set `[hidden] { display: none !important; }` so we also need the `!important` here to be able to override the default hidden behavior on the sphinx rendered scikit-learn.org. See: https://github.com/scikit-learn/scikit-learn/issues/21755 */display: inline-block !important;position: relative;}#sk-container-id-1 div.sk-text-repr-fallback {display: none;}</style><div id=\"sk-container-id-1\" class=\"sk-top-container\"><div class=\"sk-text-repr-fallback\"><pre>KNeighborsClassifier()</pre><b>In a Jupyter environment, please rerun this cell to show the HTML representation or trust the notebook. <br />On GitHub, the HTML representation is unable to render, please try loading this page with nbviewer.org.</b></div><div class=\"sk-container\" hidden><div class=\"sk-item\"><div class=\"sk-estimator sk-toggleable\"><input class=\"sk-toggleable__control sk-hidden--visually\" id=\"sk-estimator-id-1\" type=\"checkbox\" checked><label for=\"sk-estimator-id-1\" class=\"sk-toggleable__label sk-toggleable__label-arrow\">KNeighborsClassifier</label><div class=\"sk-toggleable__content\"><pre>KNeighborsClassifier()</pre></div></div></div></div></div>"
      ],
      "text/plain": [
       "KNeighborsClassifier()"
      ]
     },
     "execution_count": 10,
     "metadata": {},
     "output_type": "execute_result"
    }
   ],
   "source": [
    "knn_classifier = KNeighborsClassifier(n_neighbors=5)\n",
    "knn_classifier.fit(X_train.reshape(len(X_train), -1), y_train)"
   ]
  },
  {
   "cell_type": "markdown",
   "id": "108e23ee",
   "metadata": {},
   "source": [
    "### Fitting random forest ml model to train test"
   ]
  },
  {
   "cell_type": "code",
   "execution_count": 11,
   "id": "7544f8e5",
   "metadata": {},
   "outputs": [
    {
     "data": {
      "text/html": [
       "<style>#sk-container-id-2 {color: black;}#sk-container-id-2 pre{padding: 0;}#sk-container-id-2 div.sk-toggleable {background-color: white;}#sk-container-id-2 label.sk-toggleable__label {cursor: pointer;display: block;width: 100%;margin-bottom: 0;padding: 0.3em;box-sizing: border-box;text-align: center;}#sk-container-id-2 label.sk-toggleable__label-arrow:before {content: \"▸\";float: left;margin-right: 0.25em;color: #696969;}#sk-container-id-2 label.sk-toggleable__label-arrow:hover:before {color: black;}#sk-container-id-2 div.sk-estimator:hover label.sk-toggleable__label-arrow:before {color: black;}#sk-container-id-2 div.sk-toggleable__content {max-height: 0;max-width: 0;overflow: hidden;text-align: left;background-color: #f0f8ff;}#sk-container-id-2 div.sk-toggleable__content pre {margin: 0.2em;color: black;border-radius: 0.25em;background-color: #f0f8ff;}#sk-container-id-2 input.sk-toggleable__control:checked~div.sk-toggleable__content {max-height: 200px;max-width: 100%;overflow: auto;}#sk-container-id-2 input.sk-toggleable__control:checked~label.sk-toggleable__label-arrow:before {content: \"▾\";}#sk-container-id-2 div.sk-estimator input.sk-toggleable__control:checked~label.sk-toggleable__label {background-color: #d4ebff;}#sk-container-id-2 div.sk-label input.sk-toggleable__control:checked~label.sk-toggleable__label {background-color: #d4ebff;}#sk-container-id-2 input.sk-hidden--visually {border: 0;clip: rect(1px 1px 1px 1px);clip: rect(1px, 1px, 1px, 1px);height: 1px;margin: -1px;overflow: hidden;padding: 0;position: absolute;width: 1px;}#sk-container-id-2 div.sk-estimator {font-family: monospace;background-color: #f0f8ff;border: 1px dotted black;border-radius: 0.25em;box-sizing: border-box;margin-bottom: 0.5em;}#sk-container-id-2 div.sk-estimator:hover {background-color: #d4ebff;}#sk-container-id-2 div.sk-parallel-item::after {content: \"\";width: 100%;border-bottom: 1px solid gray;flex-grow: 1;}#sk-container-id-2 div.sk-label:hover label.sk-toggleable__label {background-color: #d4ebff;}#sk-container-id-2 div.sk-serial::before {content: \"\";position: absolute;border-left: 1px solid gray;box-sizing: border-box;top: 0;bottom: 0;left: 50%;z-index: 0;}#sk-container-id-2 div.sk-serial {display: flex;flex-direction: column;align-items: center;background-color: white;padding-right: 0.2em;padding-left: 0.2em;position: relative;}#sk-container-id-2 div.sk-item {position: relative;z-index: 1;}#sk-container-id-2 div.sk-parallel {display: flex;align-items: stretch;justify-content: center;background-color: white;position: relative;}#sk-container-id-2 div.sk-item::before, #sk-container-id-2 div.sk-parallel-item::before {content: \"\";position: absolute;border-left: 1px solid gray;box-sizing: border-box;top: 0;bottom: 0;left: 50%;z-index: -1;}#sk-container-id-2 div.sk-parallel-item {display: flex;flex-direction: column;z-index: 1;position: relative;background-color: white;}#sk-container-id-2 div.sk-parallel-item:first-child::after {align-self: flex-end;width: 50%;}#sk-container-id-2 div.sk-parallel-item:last-child::after {align-self: flex-start;width: 50%;}#sk-container-id-2 div.sk-parallel-item:only-child::after {width: 0;}#sk-container-id-2 div.sk-dashed-wrapped {border: 1px dashed gray;margin: 0 0.4em 0.5em 0.4em;box-sizing: border-box;padding-bottom: 0.4em;background-color: white;}#sk-container-id-2 div.sk-label label {font-family: monospace;font-weight: bold;display: inline-block;line-height: 1.2em;}#sk-container-id-2 div.sk-label-container {text-align: center;}#sk-container-id-2 div.sk-container {/* jupyter's `normalize.less` sets `[hidden] { display: none; }` but bootstrap.min.css set `[hidden] { display: none !important; }` so we also need the `!important` here to be able to override the default hidden behavior on the sphinx rendered scikit-learn.org. See: https://github.com/scikit-learn/scikit-learn/issues/21755 */display: inline-block !important;position: relative;}#sk-container-id-2 div.sk-text-repr-fallback {display: none;}</style><div id=\"sk-container-id-2\" class=\"sk-top-container\"><div class=\"sk-text-repr-fallback\"><pre>RandomForestClassifier(random_state=42)</pre><b>In a Jupyter environment, please rerun this cell to show the HTML representation or trust the notebook. <br />On GitHub, the HTML representation is unable to render, please try loading this page with nbviewer.org.</b></div><div class=\"sk-container\" hidden><div class=\"sk-item\"><div class=\"sk-estimator sk-toggleable\"><input class=\"sk-toggleable__control sk-hidden--visually\" id=\"sk-estimator-id-2\" type=\"checkbox\" checked><label for=\"sk-estimator-id-2\" class=\"sk-toggleable__label sk-toggleable__label-arrow\">RandomForestClassifier</label><div class=\"sk-toggleable__content\"><pre>RandomForestClassifier(random_state=42)</pre></div></div></div></div></div>"
      ],
      "text/plain": [
       "RandomForestClassifier(random_state=42)"
      ]
     },
     "execution_count": 11,
     "metadata": {},
     "output_type": "execute_result"
    }
   ],
   "source": [
    "rf_classifier = RandomForestClassifier(n_estimators=100, random_state=42)\n",
    "rf_classifier.fit(X_train.reshape(len(X_train), -1), y_train)"
   ]
  },
  {
   "cell_type": "markdown",
   "id": "947d847b",
   "metadata": {},
   "source": [
    "### Checking accuracy of both models "
   ]
  },
  {
   "cell_type": "code",
   "execution_count": 12,
   "id": "a79ba57e",
   "metadata": {},
   "outputs": [],
   "source": [
    "knn_accuracy = accuracy_score(y_test, knn_classifier.predict(X_test.reshape(len(X_test), -1)))\n",
    "rf_accuracy = accuracy_score(y_test, rf_classifier.predict(X_test.reshape(len(X_test), -1)))"
   ]
  },
  {
   "cell_type": "code",
   "execution_count": 13,
   "id": "d6705da0",
   "metadata": {},
   "outputs": [
    {
     "name": "stdout",
     "output_type": "stream",
     "text": [
      "K-Nearest Neighbors Classifier Accuracy: 0.5710532600907571\n",
      "Random Forest Classifier Accuracy: 0.9269166467637927\n"
     ]
    }
   ],
   "source": [
    "print(\"K-Nearest Neighbors Classifier Accuracy:\", knn_accuracy)\n",
    "print(\"Random Forest Classifier Accuracy:\", rf_accuracy)"
   ]
  },
  {
   "cell_type": "markdown",
   "id": "6503e851",
   "metadata": {},
   "source": [
    "### Choosing random image to use as instance for prediction"
   ]
  },
  {
   "cell_type": "code",
   "execution_count": 14,
   "id": "5be6c271",
   "metadata": {},
   "outputs": [],
   "source": [
    "random_index = np.random.randint(len(X_test))\n",
    "random_image = X_test[random_index]\n",
    "random_label = y_test[random_index]"
   ]
  },
  {
   "cell_type": "code",
   "execution_count": 23,
   "id": "1f82e0e9",
   "metadata": {},
   "outputs": [
    {
     "name": "stdout",
     "output_type": "stream",
     "text": [
      "True Character Label: lisa_simpson\n"
     ]
    },
    {
     "data": {
      "image/png": "[encoded data removed]",
      "text/plain": [
       "<Figure size 640x480 with 1 Axes>"
      ]
     },
     "metadata": {},
     "output_type": "display_data"
    }
   ],
   "source": [
    "import matplotlib.pyplot as plt\n",
    "plt.imshow(random_image)\n",
    "print('True Character Label:', list(label_map.keys())[random_label])"
   ]
  },
  {
   "cell_type": "markdown",
   "id": "f266676b",
   "metadata": {},
   "source": [
    "### Making predctions"
   ]
  },
  {
   "cell_type": "code",
   "execution_count": 25,
   "id": "34004c3e",
   "metadata": {},
   "outputs": [
    {
     "name": "stdout",
     "output_type": "stream",
     "text": [
      "True Character Label: lisa_simpson\n",
      "Predicted Character (KNN): lisa_simpson\n",
      "Predicted Character (Random Forest): lisa_simpson\n"
     ]
    }
   ],
   "source": [
    "predicted_character_knn = list(label_map.keys())[list(label_map.values()).index(knn_classifier.predict(random_image.reshape(1, -1))[0])]\n",
    "predicted_character_rf = list(label_map.keys())[list(label_map.values()).index(rf_classifier.predict(random_image.reshape(1, -1))[0])]\n",
    "print(\"True Character Label:\", list(label_map.keys())[random_label])\n",
    "print(\"Predicted Character (KNN):\", predicted_character_knn)\n",
    "print(\"Predicted Character (Random Forest):\", predicted_character_rf)"
   ]
  }
 ],
 "metadata": {
  "kernelspec": {
   "display_name": "Python 3 (ipykernel)",
   "language": "python",
   "name": "python3"
  },
  "language_info": {
   "codemirror_mode": {
    "name": "ipython",
    "version": 3
   },
   "file_extension": ".py",
   "mimetype": "text/x-python",
   "name": "python",
   "nbconvert_exporter": "python",
   "pygments_lexer": "ipython3",
   "version": "3.11.4"
  }
 },
 "nbformat": 4,
 "nbformat_minor": 5
}
